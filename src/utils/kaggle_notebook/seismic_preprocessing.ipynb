{
 "cells": [
  {
   "cell_type": "markdown",
   "metadata": {},
   "source": [
    "# Seismic Waveform Inversion - Preprocessing Pipeline
",
    "
",
    "This notebook implements the preprocessing pipeline for seismic waveform inversion, including:
",
    "- Geometric-aware preprocessing with Nyquist validation
",
    "- Family-specific data loading
",
    "- Cross-validation framework
",
    "- Model registry and checkpoint management"
   ]
  },
  {
   "cell_type": "code",
   "execution_count": null,
   "metadata": {},
   "source": [
    "# Install dependencies
",
    "!pip install -r requirements.txt"
   ]
  },
  {
   "cell_type": "code",
   "execution_count": null,
   "metadata": {},
   "source": [
    "# Import required modules
",
    "from src.core.preprocess import main as preprocess_main
",
    "
",
    "# Run preprocessing pipeline
",
    "preprocess_main()"
   ]
  }
 ],
 "metadata": {
  "kernelspec": {
   "display_name": "Python 3",
   "language": "python",
   "name": "python3"
  },
  "language_info": {
   "codemirror_mode": {
    "name": "ipython",
    "version": 3
   },
   "file_extension": ".py",
   "mimetype": "text/x-python",
   "name": "python",
   "nbconvert_exporter": "python",
   "pygments_lexer": "ipython3",
   "version": "3.7.12"
  }
 },
 "nbformat": 4,
 "nbformat_minor": 4
}